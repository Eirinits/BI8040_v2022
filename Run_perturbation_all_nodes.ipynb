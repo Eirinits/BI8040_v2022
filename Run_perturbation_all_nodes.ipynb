{
 "cells": [
  {
   "cell_type": "markdown",
   "id": "9bb73ad0",
   "metadata": {},
   "source": [
    "## Code to perform several bioLQM-based pertubations"
   ]
  },
  {
   "cell_type": "code",
   "execution_count": null,
   "id": "1d9572f9",
   "metadata": {},
   "outputs": [],
   "source": [
    "import sys\n",
    "import itertools\n",
    "import biolqm\n",
    "import ginsim\n",
    "import seaborn as sns\n",
    "\n",
    "#Load your model\n",
    "gs_model = ginsim.load(\"Ypur_model.zginml\")\n",
    "lqm = ginsim.to_biolqm(gs_model)"
   ]
  },
  {
   "cell_type": "markdown",
   "id": "74b30311",
   "metadata": {},
   "source": [
    "### Define the perturbations of interest"
   ]
  },
  {
   "cell_type": "code",
   "execution_count": null,
   "id": "18d49a03",
   "metadata": {},
   "outputs": [],
   "source": [
    "perturbations = [\"AP_1%0\", \"Akt%0\", \"CASP8%0\", \"COX2%0\", \"CREB1%0\", \"DUSP%0\", \"EP1_Gq%0\", \"EP2_Gs%0\", \"EP3_Gi%0\", \"EP4_Gs%0\", \"ERK1_2%0\", \"FADD%0\", \"FOS%0\", \"IKBKG%0\", \"IKKb%0\", \"IRAK1%0\", \"IRAK4%0\", \"JNK%0\", \"JUN%0\", \"MEK%0\", \"MKK3_4%0\", \"MKK7%0\", \"MNK1%0\", \"MyD88%0\", \"NFKBIA%0\", \"NFkB%0\", \"PDPK1%0\", \"PGE2%0\", \"PIK3R1%0\", \"PKA%0\", \"PKC%0\", \"PLCb%0\", \"PROinfl_cyt%0\", \"RIPK1%0\", \"Res_Med%0\", \"TAB%0\", \"TAK1%0\", \"TLRs%0\", \"TNFAIP3%0\", \"TNFR1%0\", \"TRADD%0\", \"TRAF2%0\", \"TRAF6%0\", \"cFLIP%0\", \"cPLA2a%0\", \"p38%0\"]"
   ]
  },
  {
   "cell_type": "code",
   "execution_count": null,
   "id": "f0e5cff0",
   "metadata": {},
   "outputs": [],
   "source": [
    "# Perform double perturbations - All against all\n",
    "all_pairwise = itertools.permutations(perturbations, 2)\n",
    "all_pairwise_list = list(all_pairwise)\n",
    "all_pairwise_list = str(all_pairwise_list).replace(',', ' ')\n",
    "all_pairwise_list"
   ]
  },
  {
   "cell_type": "code",
   "execution_count": null,
   "id": "52f9d9c6",
   "metadata": {},
   "outputs": [],
   "source": [
    "# Perform double perturbations - All nodes against one \n",
    "per = [\"Node%0\"] #define node that should be in combinatorial perturbations\n",
    "Node_perturbations = list(itertools.product(per, perturbations))\n",
    "Node_perturbations = str(Node_perturbations).replace(',', ' ')\n",
    "Node_perturbations"
   ]
  },
  {
   "cell_type": "markdown",
   "id": "65530200",
   "metadata": {},
   "source": [
    "### Perform pairwise mutations"
   ]
  },
  {
   "cell_type": "code",
   "execution_count": null,
   "id": "1a0d3fc9",
   "metadata": {},
   "outputs": [],
   "source": [
    "'''Define dictionaries to store attractors for each perturbation'''\n",
    "fixpointlist = {}\n",
    "\n",
    "'''trapspacelist is used for perturbations where no stable state is found\n",
    "    to find eventual cyclic attractors.'''\n",
    "trapspacelist = {}\n",
    "\n",
    "for p in perturbations:\n",
    "    fixpoints = biolqm.fixpoints(biolqm.perturbation(lqm, p))\n",
    "    if(fixpoints):\n",
    "        fixpointlist[p] = fixpoints\n",
    "    else:\n",
    "        '''No stable state found, so we look for cycles'''\n",
    "        trapspace = biolqm.trapspace(biolqm.perturbation(lqm, p))\n",
    "        trapspacelist[p] = trapspace\n",
    "\n",
    "#see attractors in tabulated tables for each perturbation\n",
    "for k, v in fixpointlist.items():\n",
    "    print(k)\n",
    "    sys.displayhook(tabulate(v))\n",
    "    print()\n",
    "    \n",
    "for k, v in trapspacelist.items():\n",
    "    print(k)\n",
    "    sys.displayhook(tabulate(v))\n",
    "    print()"
   ]
  },
  {
   "cell_type": "code",
   "execution_count": null,
   "id": "a652e1aa",
   "metadata": {},
   "outputs": [],
   "source": [
    "'''List of perturbations with the nb of stable states '''\n",
    "perturbstates=[]\n",
    "trappedstates=[]\n",
    "\n",
    "'''List of table state values same order as perturbStates'''\n",
    "stablestates = [] \n",
    "tstates = [] \n",
    "\n",
    "'''List of nodes'''\n",
    "nodelist = ['TNFRSF1A', 'TRAF6', 'TAK1', 'IKBKB', 'NFKBIA', 'NFKBIZ', 'IKBKG', 'NFKB', 'TNFAIP3', 'P38', 'ERK1_2', 'JNK', 'MNK1', 'PIK3R1', 'PDPK1', 'AKT', 'PRKCA', 'AP1', 'CREB1', 'PLCG1', 'PRKACA', 'RIPK1', 'TRADD', 'TRAF2', 'FADD', 'CASP8', 'CFLAR', 'IL8', 'IL6', 'BAD', 'BCL2', 'CDKN1A', 'CCND1', 'IFNGR', 'STAT1', 'IL36', 'IL17R', 'CEBP', 'IL19', 'IL22R', 'STAT3', 'SOCS3', 'SOCS1', 'SIRT1', 'AA', 'cPLA2a', 'PTGS2', 'PGE2', 'EP1', 'EP2', 'EP3', 'EP4', 'PGI2', 'EGR1', 'ALOX5', 'LTB4', 'SP1', 'ALOX12', 'HETE12', 'PPARD', 'ALOX15', 'HETE15', 'TRAF3IP2', 'KRT1', 'FLG', 'CALML5', 'CXCL3', 'IFNG', 'IL12', 'TNFa', 'IL1B', 'CCL2', 'CCL5', 'CXCR3', 'CCL20', 'CXCL1', 'CXCL2', 'CXCL5', 'EGFR', 'VDR', 'EP2_g', 'EP4_g', 'S100A7', 'S100A8', 'S100A9', 'DEFB4A', 'HBEGF', 'CSF3', 'CCL7', 'FOXO3']\n",
    "for k,v in fixpointlist.items():   \n",
    "    for i in range(0,len(v)):\n",
    "        listSS = []\n",
    "        for key, val in v[i].items():\n",
    "            listSS.append(val)\n",
    "        stablestates.append(listSS)\n",
    "        perturbstates.append(str(k)+' '+str(i))\n",
    "\n",
    "'''Create dataframe: columns = nodes, rows = perturbations'''\n",
    "df = DataFrame(data=stablestates)\n",
    "df.columns = nodelist\n",
    "df.index = perturbstates\n",
    "\n",
    "'''Generate clustered heatmap'''\n",
    "cm = sns.clustermap(df, metric='euclidean', cmap = 'Blues',  figsize=(15, 25))\n",
    "#cm.savefig(\"SSclusters.png\")"
   ]
  }
 ],
 "metadata": {
  "kernelspec": {
   "display_name": "Python 3",
   "language": "python",
   "name": "python3"
  },
  "language_info": {
   "codemirror_mode": {
    "name": "ipython",
    "version": 3
   },
   "file_extension": ".py",
   "mimetype": "text/x-python",
   "name": "python",
   "nbconvert_exporter": "python",
   "pygments_lexer": "ipython3",
   "version": "3.7.11"
  }
 },
 "nbformat": 4,
 "nbformat_minor": 5
}
